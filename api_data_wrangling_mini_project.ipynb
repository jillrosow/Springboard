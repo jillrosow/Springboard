{
 "cells": [
  {
   "cell_type": "markdown",
   "metadata": {},
   "source": [
    "This exercise will require you to pull some data from the Qunadl API. Qaundl is currently the most widely used aggregator of financial market data."
   ]
  },
  {
   "cell_type": "markdown",
   "metadata": {},
   "source": [
    "As a first step, you will need to register a free account on the http://www.quandl.com website."
   ]
  },
  {
   "cell_type": "markdown",
   "metadata": {},
   "source": [
    "After you register, you will be provided with a unique API key, that you should store:"
   ]
  },
  {
   "cell_type": "code",
   "execution_count": 11,
   "metadata": {},
   "outputs": [],
   "source": [
    "# Store the API key as a string - according to PEP8, constants are always named in all upper case\n",
    "API_KEY = ''"
   ]
  },
  {
   "cell_type": "markdown",
   "metadata": {},
   "source": [
    "Qaundl has a large number of data sources, but, unfortunately, most of them require a Premium subscription. Still, there are also a good number of free datasets."
   ]
  },
  {
   "cell_type": "markdown",
   "metadata": {},
   "source": [
    "For this mini project, we will focus on equities data from the Frankfurt Stock Exhange (FSE), which is available for free. We'll try and analyze the stock prices of a company called Carl Zeiss Meditec, which manufactures tools for eye examinations, as well as medical lasers for laser eye surgery: https://www.zeiss.com/meditec/int/home.html. The company is listed under the stock ticker AFX_X."
   ]
  },
  {
   "cell_type": "markdown",
   "metadata": {},
   "source": [
    "You can find the detailed Quandl API instructions here: https://docs.quandl.com/docs/time-series"
   ]
  },
  {
   "cell_type": "markdown",
   "metadata": {},
   "source": [
    "While there is a dedicated Python package for connecting to the Quandl API, we would prefer that you use the *requests* package, which can be easily downloaded using *pip* or *conda*. You can find the documentation for the package here: http://docs.python-requests.org/en/master/ "
   ]
  },
  {
   "cell_type": "markdown",
   "metadata": {},
   "source": [
    "Finally, apart from the *requests* package, you are encouraged to not use any third party Python packages, such as *pandas*, and instead focus on what's available in the Python Standard Library (the *collections* module might come in handy: https://pymotw.com/3/collections/ ).\n",
    "Also, since you won't have access to DataFrames, you are encouraged to us Python's native data structures - preferably dictionaries, though some questions can also be answered using lists.\n",
    "You can read more on these data structures here: https://docs.python.org/3/tutorial/datastructures.html"
   ]
  },
  {
   "cell_type": "markdown",
   "metadata": {},
   "source": [
    "Keep in mind that the JSON responses you will be getting from the API map almost one-to-one to Python's dictionaries. Unfortunately, they can be very nested, so make sure you read up on indexing dictionaries in the documentation provided above."
   ]
  },
  {
   "cell_type": "code",
   "execution_count": 120,
   "metadata": {},
   "outputs": [],
   "source": [
    "# First, import the relevant modules\n",
    "import requests \n",
    "import statistics\n",
    "import json"
   ]
  },
  {
   "cell_type": "code",
   "execution_count": 21,
   "metadata": {},
   "outputs": [
    {
     "data": {
      "text/plain": [
       "{'dataset_data': {'limit': 1,\n",
       "  'transform': None,\n",
       "  'column_index': None,\n",
       "  'column_names': ['Date',\n",
       "   'Open',\n",
       "   'High',\n",
       "   'Low',\n",
       "   'Close',\n",
       "   'Change',\n",
       "   'Traded Volume',\n",
       "   'Turnover',\n",
       "   'Last Price of the Day',\n",
       "   'Daily Traded Units',\n",
       "   'Daily Turnover'],\n",
       "  'start_date': '2000-06-07',\n",
       "  'end_date': '2019-08-08',\n",
       "  'frequency': 'daily',\n",
       "  'data': [['2019-08-08',\n",
       "    95.35,\n",
       "    95.35,\n",
       "    94.2,\n",
       "    95.1,\n",
       "    None,\n",
       "    110482.0,\n",
       "    10474803.0,\n",
       "    None,\n",
       "    None,\n",
       "    None]],\n",
       "  'collapse': None,\n",
       "  'order': None}}"
      ]
     },
     "execution_count": 21,
     "metadata": {},
     "output_type": "execute_result"
    }
   ],
   "source": [
    "# Now, call the Quandl API and pull out a small sample of the data (only one day) to get a glimpse\n",
    "# into the JSON structure that will be returned\n",
    "r = requests.get('https://www.quandl.com/api/v3/datasets/FSE/AFX_X/data.json?limit=1&api_key=API_KEY')\n",
    "afx_day = r.json()\n",
    "afx_day"
   ]
  },
  {
   "cell_type": "code",
   "execution_count": 26,
   "metadata": {},
   "outputs": [
    {
     "name": "stdout",
     "output_type": "stream",
     "text": [
      "['dataset_data']\n",
      "\n",
      "dataset_data {'limit': 1, 'transform': None, 'column_index': None, 'column_names': ['Date', 'Open', 'High', 'Low', 'Close', 'Change', 'Traded Volume', 'Turnover', 'Last Price of the Day', 'Daily Traded Units', 'Daily Turnover'], 'start_date': '2000-06-07', 'end_date': '2019-08-08', 'frequency': 'daily', 'data': [['2019-08-08', 95.35, 95.35, 94.2, 95.1, None, 110482.0, 10474803.0, None, None, None]], 'collapse': None, 'order': None}\n",
      "\n",
      "limit 1\n",
      "transform None\n",
      "column_index None\n",
      "column_names ['Date', 'Open', 'High', 'Low', 'Close', 'Change', 'Traded Volume', 'Turnover', 'Last Price of the Day', 'Daily Traded Units', 'Daily Turnover']\n",
      "start_date 2000-06-07\n",
      "end_date 2019-08-08\n",
      "frequency daily\n",
      "data [['2019-08-08', 95.35, 95.35, 94.2, 95.1, None, 110482.0, 10474803.0, None, None, None]]\n",
      "collapse None\n",
      "order None\n"
     ]
    }
   ],
   "source": [
    "# Inspect the JSON structure of the object you created, and take note of how nested it is,\n",
    "# as well as the overall structure\n",
    "\n",
    "# list out the keys. result of 1 key shows nested dictionary \n",
    "keys_list = list(afx_day)\n",
    "print(keys_list)\n",
    "print()\n",
    "\n",
    "# iterate through the first key, value pair \n",
    "for key, value in afx_day.items():\n",
    "    print(key,value)\n",
    "print()\n",
    "\n",
    "# iterate through the nested key, value pairs\n",
    "for key, value in afx_day['dataset_data'].items():\n",
    "    print(key,value)"
   ]
  },
  {
   "cell_type": "markdown",
   "metadata": {},
   "source": [
    "These are your tasks for this mini project:\n",
    "\n",
    "1. Collect data from the Franfurt Stock Exchange, for the ticker AFX_X, for the whole year 2017 (keep in mind that the date format is YYYY-MM-DD).\n",
    "2. Convert the returned JSON object into a Python dictionary.\n",
    "3. Calculate what the highest and lowest opening prices were for the stock in this period.\n",
    "4. What was the largest change in any one day (based on High and Low price)?\n",
    "5. What was the largest change between any two days (based on Closing Price)?\n",
    "6. What was the average daily trading volume during this year?\n",
    "7. (Optional) What was the median trading volume during this year. (Note: you may need to implement your own function for calculating the median.)"
   ]
  },
  {
   "cell_type": "markdown",
   "metadata": {
    "collapsed": true
   },
   "source": [
    "### 1. Collect data from the Franfurt Stock Exchange, for the ticket AFX_X, for the whole year 2017"
   ]
  },
  {
   "cell_type": "code",
   "execution_count": 28,
   "metadata": {},
   "outputs": [],
   "source": [
    "# perform a get request from quandl API to return desired data\n",
    "year = requests.get('https://www.quandl.com/api/v3/datasets/FSE/AFX_X/data.json?start_date=2017-01-01 \\\n",
    "                    &end_date=2017-12-31&api_key=API_KEY')"
   ]
  },
  {
   "cell_type": "markdown",
   "metadata": {},
   "source": [
    "### 2. Convert the returned JSON object into a python dictionary"
   ]
  },
  {
   "cell_type": "code",
   "execution_count": 71,
   "metadata": {},
   "outputs": [],
   "source": [
    "# use python dict() function to convert json object into a usable dictionary \n",
    "year_d = dict(year.json())"
   ]
  },
  {
   "cell_type": "markdown",
   "metadata": {},
   "source": [
    "### 3. Calculate what the highest and lowest opening prices were for the stock in this period."
   ]
  },
  {
   "cell_type": "code",
   "execution_count": 54,
   "metadata": {},
   "outputs": [],
   "source": [
    "# create a function to extract the index of column name in question from column_names list \n",
    "def extract_index(name):\n",
    "    if name in year_d['dataset_data']['column_names']:\n",
    "        return year_d['dataset_data']['column_names'].index(name)"
   ]
  },
  {
   "cell_type": "code",
   "execution_count": 67,
   "metadata": {},
   "outputs": [],
   "source": [
    "# find and save the 'Open' index in 'column_names' column to extract specified data field from 'data' column\n",
    "open_index = extract_index('Open')"
   ]
  },
  {
   "cell_type": "code",
   "execution_count": 70,
   "metadata": {},
   "outputs": [
    {
     "name": "stdout",
     "output_type": "stream",
     "text": [
      "The highest opening price for Carl Zeiss Meditec in 2017 was $53.11\n",
      "The lowest opening price for Carl Zeiss Meditec in 2017 was $34.00\n"
     ]
    }
   ],
   "source": [
    "# store all the opening prices for each day in 2017 in a list\n",
    "opening_prices = []\n",
    "for day in year_d['dataset_data']['data']:\n",
    "    opening_prices.append(day[open_index])\n",
    "    \n",
    "# find the highest opening price using max() and ignoring \"None\"s\n",
    "max_opening = max(x for x in opening_prices if x is not None)\n",
    "print('The highest opening price for Carl Zeiss Meditec in 2017 was $%.2f' % max_opening)\n",
    "\n",
    "# find the lowest opening price using min() and ignorning \"None\"s\n",
    "min_opening = min(x for x in opening_prices if x is not None)\n",
    "print('The lowest opening price for Carl Zeiss Meditec in 2017 was $%.2f' % min_opening)\n"
   ]
  },
  {
   "cell_type": "markdown",
   "metadata": {},
   "source": [
    "### 4. What was the largest change in any one day (based on High and Low price)?"
   ]
  },
  {
   "cell_type": "code",
   "execution_count": 73,
   "metadata": {},
   "outputs": [],
   "source": [
    "# find and save the 'High' and 'Low' index in 'column_names' column to extract information later\n",
    "high_index = extract_index('High')\n",
    "low_index = extract_index('Low')"
   ]
  },
  {
   "cell_type": "code",
   "execution_count": 85,
   "metadata": {},
   "outputs": [
    {
     "name": "stdout",
     "output_type": "stream",
     "text": [
      "The largest change in any one day was $2.8100000000000023\n"
     ]
    }
   ],
   "source": [
    "# for each day, extract high and low prices, find the difference, and store it in a list: daily changes\n",
    "daily_changes = []\n",
    "for day in year_d['dataset_data']['data']:\n",
    "    high = day[high_index]\n",
    "    low = day[low_index]\n",
    "    change = high - low\n",
    "    daily_changes.append(change)\n",
    "\n",
    "# find the largest change in any one day by calling max() on daily_changes\n",
    "largest_change = max(daily_changes)\n",
    "print('The largest change in any one day was $' + str(largest_change))"
   ]
  },
  {
   "cell_type": "markdown",
   "metadata": {},
   "source": [
    "### 5. What was the largest change between any two days (based on Closing Price)?"
   ]
  },
  {
   "cell_type": "code",
   "execution_count": 103,
   "metadata": {},
   "outputs": [],
   "source": [
    "# find and save the 'Close' index in 'column_names' column to extract data later \n",
    "closing_index = extract_index('Close')"
   ]
  },
  {
   "cell_type": "code",
   "execution_count": 107,
   "metadata": {},
   "outputs": [
    {
     "name": "stdout",
     "output_type": "stream",
     "text": [
      "The largest change between any two days in 2017 was $2.559999999999995\n"
     ]
    }
   ],
   "source": [
    "# for each day, extract the closing price and store it in a list: closing_prices\n",
    "closing_prices = [day[closing_index] for day in year_d['dataset_data']['data']]\n",
    "\n",
    "# find the largest change between any two days by zipping closing_prices to itself (one day over)\n",
    "# then call max on the new list of tuples, which contain each successive pair of days\n",
    "largest_change = max(abs(x-y) for (x, y) in zip(closing_prices[1:], closing_prices[:-1]))\n",
    "print('The largest change between any two days in 2017 was $' + str(largest_change))"
   ]
  },
  {
   "cell_type": "markdown",
   "metadata": {},
   "source": [
    "### 6. What was the average daily trading volume during this year?"
   ]
  },
  {
   "cell_type": "code",
   "execution_count": 114,
   "metadata": {},
   "outputs": [],
   "source": [
    "# find and save the 'Traded Volume' index in 'column_names' column for later data extraction\n",
    "traded_vol_index = extract_index('Traded Volume')"
   ]
  },
  {
   "cell_type": "code",
   "execution_count": 127,
   "metadata": {},
   "outputs": [
    {
     "name": "stdout",
     "output_type": "stream",
     "text": [
      "The average daily trading volume during 2017 was 89124.33725490196\n"
     ]
    }
   ],
   "source": [
    "# for each day, extract the traded volume and store it in a list: traded_volumes\n",
    "traded_volumes = [day[traded_vol_index] for day in year_d['dataset_data']['data']]\n",
    "\n",
    "# find the average daily trading volume during the year by calling mean() on traded_volumes\n",
    "daily_trading_avg = statistics.mean(traded_volumes)\n",
    "print('The average daily trading volume during 2017 was ' + str(daily_trading_avg))"
   ]
  },
  {
   "cell_type": "markdown",
   "metadata": {},
   "source": [
    "### 7. (Optional) What was the median trading volume during this year. (Note: you may need to implement your own function for calculating the median.)"
   ]
  },
  {
   "cell_type": "code",
   "execution_count": 128,
   "metadata": {},
   "outputs": [
    {
     "name": "stdout",
     "output_type": "stream",
     "text": [
      "The median trading volume during 2017 was 76286.0\n"
     ]
    }
   ],
   "source": [
    "# find the median trading volume during this year by calling median() on traded_volumes\n",
    "median_trading_volume = statistics.median(traded_volumes)\n",
    "print('The median trading volume during 2017 was', median_trading_volume)"
   ]
  }
 ],
 "metadata": {
  "kernelspec": {
   "display_name": "Python 3",
   "language": "python",
   "name": "python3"
  },
  "language_info": {
   "codemirror_mode": {
    "name": "ipython",
    "version": 3
   },
   "file_extension": ".py",
   "mimetype": "text/x-python",
   "name": "python",
   "nbconvert_exporter": "python",
   "pygments_lexer": "ipython3",
   "version": "3.7.3"
  }
 },
 "nbformat": 4,
 "nbformat_minor": 2
}
